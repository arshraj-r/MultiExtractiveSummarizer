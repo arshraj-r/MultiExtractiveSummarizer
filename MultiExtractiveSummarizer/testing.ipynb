{
 "cells": [
  {
   "cell_type": "code",
   "execution_count": null,
   "id": "aee9fafe-0dff-48dd-9dce-80d1c4303c70",
   "metadata": {},
   "outputs": [],
   "source": [
    "from embeddings import Embeddings\n",
    "from methods.lexrank import LexRankSummarizer\n",
    "from sklearn.metrics.pairwise import cosine_similarity\n",
    "import numpy as np\n",
    "import nltk"
   ]
  },
  {
   "cell_type": "code",
   "execution_count": 4,
   "id": "9cf25751-b5af-42b7-8656-4e3204fbee0b",
   "metadata": {},
   "outputs": [],
   "source": [
    "document = \"\"\"\n",
    "New York City (NYC), often called simply New York, is the most populous city in the United States. With an estimated 2019 population of 8,336,817 distributed over about 302.6 square miles (784 km2), New York City is also the most densely populated major city in the United States. Located at the southern tip of the U.S. state of New York, the city is the center of the New York metropolitan area, the largest metropolitan area in the world by urban landmass. With almost 20 million people in its metropolitan statistical area and approximately 23 million in its combined statistical area, it is one of the world's most populous megacities. New York City has been described as the cultural, financial, and media capital of the world, significantly influencing commerce, entertainment, research, technology, education, politics, tourism, art, fashion, and sports. Home to the headquarters of the United Nations, New York is an important center for international diplomacy.\n",
    "\n",
    "Situated on one of the world's largest natural harbors, New York City is composed of five boroughs, each of which is a county of the State of New York. The five boroughs—Brooklyn, Queens, Manhattan, the Bronx, and Staten Island—were consolidated into a single city in 1898. The city and its metropolitan area constitute the premier gateway for legal immigration to the United States. As many as 800 languages are spoken in New York, making it the most linguistically diverse city in the world. New York is home to more than 3.2 million residents born outside the United States, the largest foreign-born population of any city in the world as of 2016. As of 2019, the New York metropolitan area is estimated to produce a gross metropolitan product (GMP) of $2.0 trillion. If the New York metropolitan area were a sovereign state, it would have the eighth-largest economy in the world. New York is home to the highest number of billionaires of any city in the world.\n",
    "\n",
    "New York City traces its origins to a trading post founded by colonists from the Dutch Republic in 1624 on Lower Manhattan; the post was named New Amsterdam in 1626. The city and its surroundings came under English control in 1664 and were renamed New York after King Charles II of England granted the lands to his brother, the Duke of York. The city was regained by the Dutch in July 1673 and was subsequently renamed New Orange for one year and three months; the city has been continuously named New York since November 1674. New York City was the capital of the United States from 1785 until 1790, and has been the largest U.S. city since 1790. The Statue of Liberty greeted millions of immigrants as they came to the U.S. by ship in the late 19th and early 20th centuries, and is a symbol of the U.S. and its ideals of liberty and peace. In the 21st century, New York has emerged as a global node of creativity, entrepreneurship, and environmental sustainability, and as a symbol of freedom and cultural diversity. In 2019, New York was voted the greatest city in the world per a survey of over 30,000 people from 48 cities worldwide, citing its cultural diversity.\n",
    "\n",
    "Many districts and landmarks in New York City are well known, including three of the world's ten most visited tourist attractions in 2013. A record 62.8 million tourists visited New York City in 2017. Times Square is the brightly illuminated hub of the Broadway Theater District, one of the world's busiest pedestrian intersections, and a major center of the world's entertainment industry. Many of the city's landmarks, skyscrapers, and parks are known around the world. Manhattan's real estate market is among the most expensive in the world. Providing continuous 24/7 service and contributing to the nickname The City that Never Sleeps, the New York City Subway is the largest single-operator rapid transit system worldwide, with 472 rail stations. The city has over 120 colleges and universities, including Columbia University, New York University, Rockefeller University, and the City University of New York system, which is the largest urban public university system in the United States. Anchored by Wall Street in the Financial District of Lower Manhattan, New York City has been called both the world's leading financial center and the most financially powerful city in the world, and is home to the world's two largest stock exchanges by total market capitalization, the New York Stock Exchange and NASDAQ.\n",
    "\"\"\"\n",
    "\n",
    "# Split the document into sentences\n",
    "# sentences = nltk.sent_tokenize(document)\n",
    "# print(\"Num sentences:\", len(sentences))\n"
   ]
  },
  {
   "cell_type": "code",
   "execution_count": null,
   "id": "6eb61da1-6338-4765-b147-e259b77bd8df",
   "metadata": {},
   "outputs": [],
   "source": [
    "embeddder = Embeddings(method='sbert')\n",
    "embeddings = embeddder.fit_transform(sentences)\n",
    "similarity_scores = cosine_similarity(embeddings)\n",
    "summarizer=LexRankSummarizer()\n",
    "centrality_scores = summarizer.degree_centrality_scores(similarity_scores)\n",
    "most_central_sentence_indices = np.argsort(-centrality_scores)\n",
    "most_central_sentence_indices_sorted=sorted(most_central_sentence_indices)\n",
    "summary_indicies=most_central_sentence_indices_sorted[0:2] #adjust the length here\n"
   ]
  },
  {
   "cell_type": "code",
   "execution_count": null,
   "id": "f52db152-dcb8-45c0-908c-83389bfaf06e",
   "metadata": {},
   "outputs": [],
   "source": [
    "summary_sentences=[sentences[idx].strip() for idx in summary_indicies]\n",
    "summary_string=\" \".join(summary_sentences)"
   ]
  },
  {
   "cell_type": "code",
   "execution_count": null,
   "id": "74290ef8-1890-49ce-9006-e966196b8a10",
   "metadata": {},
   "outputs": [],
   "source": [
    "summary_string"
   ]
  },
  {
   "cell_type": "code",
   "execution_count": null,
   "id": "48d4a1b4-7fe1-4ae4-9352-1e02e103cc3d",
   "metadata": {},
   "outputs": [],
   "source": []
  },
  {
   "cell_type": "code",
   "execution_count": null,
   "id": "a9d219a5-7984-4784-a4d5-1ff46c072fa6",
   "metadata": {},
   "outputs": [],
   "source": []
  },
  {
   "cell_type": "code",
   "execution_count": null,
   "id": "7ef7d6a0-2ccc-45ce-a991-68f418ceb489",
   "metadata": {},
   "outputs": [],
   "source": []
  },
  {
   "cell_type": "code",
   "execution_count": null,
   "id": "ac71ee7d-ffc9-4b86-8692-243bd8acf441",
   "metadata": {},
   "outputs": [],
   "source": []
  },
  {
   "cell_type": "code",
   "execution_count": 1,
   "id": "0fe20bc9-039e-4c61-a498-d0c00d5de868",
   "metadata": {},
   "outputs": [
    {
     "name": "stderr",
     "output_type": "stream",
     "text": [
      "C:\\Users\\Arshraj\\anaconda3\\envs\\myenv1\\Lib\\site-packages\\sentence_transformers\\cross_encoder\\CrossEncoder.py:11: TqdmExperimentalWarning: Using `tqdm.autonotebook.tqdm` in notebook mode. Use `tqdm.tqdm` instead to force console mode (e.g. in jupyter console)\n",
      "  from tqdm.autonotebook import tqdm, trange\n"
     ]
    }
   ],
   "source": [
    "from summarizer import MultiExtractiveSummarizer"
   ]
  },
  {
   "cell_type": "code",
   "execution_count": 2,
   "id": "33d15a94-b96c-48d1-a543-d00a94da7d79",
   "metadata": {},
   "outputs": [
    {
     "name": "stderr",
     "output_type": "stream",
     "text": [
      "C:\\Users\\Arshraj\\anaconda3\\envs\\myenv1\\Lib\\site-packages\\huggingface_hub\\file_download.py:1132: FutureWarning: `resume_download` is deprecated and will be removed in version 1.0.0. Downloads always resume when possible. If you want to force a new download, use `force_download=True`.\n",
      "  warnings.warn(\n"
     ]
    },
    {
     "data": {
      "text/plain": [
       "<summarizer.MultiExtractiveSummarizer at 0x23527457a10>"
      ]
     },
     "execution_count": 2,
     "metadata": {},
     "output_type": "execute_result"
    }
   ],
   "source": [
    "extsummarizer=MultiExtractiveSummarizer(embedding_method=\"sbert\", summarization_method=\"lexrank\")\n",
    "extsummarizer"
   ]
  },
  {
   "cell_type": "code",
   "execution_count": 5,
   "id": "ea52096c-14f7-4b3b-bffe-6d005fab6ed3",
   "metadata": {},
   "outputs": [
    {
     "data": {
      "text/plain": [
       "'New York City (NYC), often called simply New York, is the most populous city in the United States. With an estimated 2019 population of 8,336,817 distributed over about 302.6 square miles (784 km2), New York City is also the most densely populated major city in the United States.'"
      ]
     },
     "execution_count": 5,
     "metadata": {},
     "output_type": "execute_result"
    }
   ],
   "source": [
    "extsummarizer.summarize(document)"
   ]
  },
  {
   "cell_type": "code",
   "execution_count": null,
   "id": "0b3755a1-0d91-4831-a067-e6961de6e492",
   "metadata": {},
   "outputs": [],
   "source": []
  },
  {
   "cell_type": "code",
   "execution_count": null,
   "id": "95f7b7ef-ad5b-4268-9d73-a0f9d02a1296",
   "metadata": {},
   "outputs": [],
   "source": []
  },
  {
   "cell_type": "code",
   "execution_count": null,
   "id": "9c836e86-aa5e-40a5-b0c3-946b66890ace",
   "metadata": {},
   "outputs": [],
   "source": []
  },
  {
   "cell_type": "code",
   "execution_count": null,
   "id": "4c0684c6-9308-48fd-a4fc-ca15c2c3f1a7",
   "metadata": {},
   "outputs": [],
   "source": [
    "from sklearn.metrics.pairwise import cosine_similarity\n",
    "def summarize(sentences, embeddings):\n",
    "    similarity_scores = cosine_similarity(embeddings)\n",
    "    centrality_scores = degree_centrality_scores(similarity_scores)\n",
    "    most_central_sentence_indices = np.argsort(-centrality_scores)\n",
    "    most_central_sentence_indices_sorted=sorted(most_central_sentence_indices)\n",
    "    summary_indicies=most_central_sentence_indices_sorted[0:2] #adjust the length here\n",
    "    summary_sentences=[sentences[idx].strip() for idx in summary_indicies]\n",
    "    return \" \".join(summary_sentences)\n",
    "\n",
    "    "
   ]
  },
  {
   "cell_type": "code",
   "execution_count": null,
   "id": "74c6c450-2b0a-42b4-876c-d658b586e3ae",
   "metadata": {},
   "outputs": [],
   "source": []
  },
  {
   "cell_type": "code",
   "execution_count": null,
   "id": "67c0c977-d63c-425a-b51d-33f43ac1ae35",
   "metadata": {},
   "outputs": [],
   "source": []
  },
  {
   "cell_type": "code",
   "execution_count": null,
   "id": "ac98846e-bad4-493a-9456-e115af4d77b3",
   "metadata": {},
   "outputs": [],
   "source": []
  },
  {
   "cell_type": "code",
   "execution_count": null,
   "id": "d932e7ae-121f-40a7-b074-fd238f78081c",
   "metadata": {},
   "outputs": [],
   "source": []
  },
  {
   "cell_type": "code",
   "execution_count": null,
   "id": "5ccc7f1d-75c0-4a9d-9f4c-67eec639cc5d",
   "metadata": {},
   "outputs": [],
   "source": []
  }
 ],
 "metadata": {
  "kernelspec": {
   "display_name": "Python 3 (ipykernel)",
   "language": "python",
   "name": "python3"
  },
  "language_info": {
   "codemirror_mode": {
    "name": "ipython",
    "version": 3
   },
   "file_extension": ".py",
   "mimetype": "text/x-python",
   "name": "python",
   "nbconvert_exporter": "python",
   "pygments_lexer": "ipython3",
   "version": "3.11.9"
  }
 },
 "nbformat": 4,
 "nbformat_minor": 5
}
